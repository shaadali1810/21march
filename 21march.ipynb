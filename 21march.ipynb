{
 "cells": [
  {
   "cell_type": "code",
   "execution_count": 9,
   "id": "f538fb83-5bcf-4780-bced-389d05fe346a",
   "metadata": {},
   "outputs": [],
   "source": [
    "#1both have the same functionality. A bit difference is the idea behind. OrdinalEncoder is for converting features, while LabelEncoder is for converting target variable.\n",
    "\n",
    "#That's why OrdinalEncoder can fit data that has the shape of (n_samples, n_features) while LabelEncoder can only fit data that has the shape of (n_samples,) (though in the past one used LabelEncoder within the loop to handle what has been becoming the job of OrdinalEncoder now)"
   ]
  },
  {
   "cell_type": "code",
   "execution_count": null,
   "id": "39f0eadf-15d2-4906-8f4a-2067d0329e11",
   "metadata": {},
   "outputs": [],
   "source": [
    "#2arget encoding involves replacing a categorical feature with average target value of all data points belonging to the category. For instance, Seattle can be replaced with average of salary (target variable) of all datapoints where city is Seattle."
   ]
  },
  {
   "cell_type": "code",
   "execution_count": 10,
   "id": "9fbe7330-f593-42e1-8964-edd02e80123e",
   "metadata": {},
   "outputs": [
    {
     "data": {
      "text/plain": [
       "\"import pandas as pd;\\ndata = [['Salt Lake City', 10, 120], ['Seattle', 5, 120], ['San Franscisco', 5, 140], \\n        ['Seattle', 3, 100], ['Seattle', 1, 70], ['San Franscisco', 2, 100],['Salt Lake City', 1, 60], \\n        ['San Franscisco', 2, 110], ['Seattle', 4, 100],['Salt Lake City', 2, 70] ]\\ndf = pd.DataFrame(data, columns = ['City', 'Years OF Exp','Yearly Salary in Thousands'])\\ndf\""
      ]
     },
     "execution_count": 10,
     "metadata": {},
     "output_type": "execute_result"
    }
   ],
   "source": [
    "'''import pandas as pd;\n",
    "data = [['Salt Lake City', 10, 120], ['Seattle', 5, 120], ['San Franscisco', 5, 140], \n",
    "        ['Seattle', 3, 100], ['Seattle', 1, 70], ['San Franscisco', 2, 100],['Salt Lake City', 1, 60], \n",
    "        ['San Franscisco', 2, 110], ['Seattle', 4, 100],['Salt Lake City', 2, 70] ]\n",
    "df = pd.DataFrame(data, columns = ['City', 'Years OF Exp','Yearly Salary in Thousands'])\n",
    "df'''"
   ]
  },
  {
   "cell_type": "code",
   "execution_count": 11,
   "id": "2379fdf0-348f-4cec-a308-e1e9b5e5b289",
   "metadata": {},
   "outputs": [],
   "source": [
    "#3Covariance is a measure of how much two random variables vary together. It’s similar to variance, but where variance tells you how a single variable varies, co variance tells you how two variables vary together. large covariance can mean a strong relationship between variables. However, you can’t compare variances over data sets with different scales (like pounds and inches). A weak covariance in one data set may be a strong one in a different data set with different scales.\n",
    "\n",
    "#The main problem with interpretation is that the wide range of results that it takes on makes it hard to interpret. For example, your data set could return a value of 3, or 3,000. This wide range of values is cause by a simple fact; The larger the X and Y values, the larger the covariance. A value of 300 tells us that the variables are correlated, but unlike the correlation coefficient, that number doesn’t tell us exactly how strong that relationship is. The problem can be fixed by dividing the covariance by the standard deviation to get the correlation coefficient.\n",
    "#Corr(X,Y) = Cov(X,Y) / σXσY The Correlation Coefficient has several advantages over covariance for determining strengths of relationships:\n",
    "\n",
    "#Covariance can take on practically any number while a correlation is limited: -1 to +1.\n",
    "#Because of it’s numerical limitations, correlation is more useful for determining how strong the relationship is between the two variables.\n",
    "#Correlation does not have units. Covariance always has units\n",
    "#Correlation isn’t affected by changes in the center (i.e. mean) or scale of the variables"
   ]
  },
  {
   "cell_type": "code",
   "execution_count": 1,
   "id": "89b10373-9adc-4f0a-9759-940b8dc45059",
   "metadata": {},
   "outputs": [],
   "source": [
    "#4\n",
    "import pandas as pd"
   ]
  },
  {
   "cell_type": "code",
   "execution_count": 5,
   "id": "ba68a282-3632-4a6c-955e-ef224252fafe",
   "metadata": {},
   "outputs": [],
   "source": [
    "df =pd.DataFrame({'color':['red','green','blue'],\n",
    "             'size':['small','medium','large'],\n",
    "             'material':['wood','metal','plastic']})"
   ]
  },
  {
   "cell_type": "code",
   "execution_count": 3,
   "id": "cf8d3c26-2cd8-4965-bd36-be7b542e7518",
   "metadata": {},
   "outputs": [],
   "source": [
    "from sklearn.preprocessing import LabelEncoder"
   ]
  },
  {
   "cell_type": "code",
   "execution_count": 4,
   "id": "6a7825d2-2381-48a2-b275-3c0bdae2dc7e",
   "metadata": {},
   "outputs": [],
   "source": [
    "encoder=LabelEncoder()"
   ]
  },
  {
   "cell_type": "code",
   "execution_count": 8,
   "id": "489993da-5fdd-4a1e-9a16-f5c36e8cfac1",
   "metadata": {},
   "outputs": [
    {
     "name": "stderr",
     "output_type": "stream",
     "text": [
      "/opt/conda/lib/python3.10/site-packages/sklearn/preprocessing/_label.py:116: DataConversionWarning: A column-vector y was passed when a 1d array was expected. Please change the shape of y to (n_samples, ), for example using ravel().\n",
      "  y = column_or_1d(y, warn=True)\n"
     ]
    },
    {
     "data": {
      "text/plain": [
       "array([2, 1, 0])"
      ]
     },
     "execution_count": 8,
     "metadata": {},
     "output_type": "execute_result"
    }
   ],
   "source": [
    "encoder.fit_transform(df[['color']])"
   ]
  },
  {
   "cell_type": "code",
   "execution_count": 12,
   "id": "b7812edc-9f8a-4fa6-88e8-e58ceaeac50d",
   "metadata": {},
   "outputs": [],
   "source": [
    "# 5"
   ]
  },
  {
   "cell_type": "code",
   "execution_count": 29,
   "id": "6d2acb65-9914-4cfd-8375-ac1acc1a118c",
   "metadata": {},
   "outputs": [],
   "source": [
    "df1 = pd.DataFrame({'Age':[33,44,22],\n",
    "                  'Income':[100000,150000,50000],\n",
    "                  'Education':['master','phd','graduation',]})"
   ]
  },
  {
   "cell_type": "code",
   "execution_count": 31,
   "id": "235d87c9-6107-4a2e-aa07-40bb139877e0",
   "metadata": {},
   "outputs": [
    {
     "name": "stderr",
     "output_type": "stream",
     "text": [
      "/tmp/ipykernel_1206/1545644723.py:1: FutureWarning: The default value of numeric_only in DataFrame.cov is deprecated. In a future version, it will default to False. Select only valid columns or specify the value of numeric_only to silence this warning.\n",
      "  df.cov()\n"
     ]
    },
    {
     "data": {
      "text/html": [
       "<div>\n",
       "<style scoped>\n",
       "    .dataframe tbody tr th:only-of-type {\n",
       "        vertical-align: middle;\n",
       "    }\n",
       "\n",
       "    .dataframe tbody tr th {\n",
       "        vertical-align: top;\n",
       "    }\n",
       "\n",
       "    .dataframe thead th {\n",
       "        text-align: right;\n",
       "    }\n",
       "</style>\n",
       "<table border=\"1\" class=\"dataframe\">\n",
       "  <thead>\n",
       "    <tr style=\"text-align: right;\">\n",
       "      <th></th>\n",
       "      <th>Age</th>\n",
       "      <th>Income</th>\n",
       "    </tr>\n",
       "  </thead>\n",
       "  <tbody>\n",
       "    <tr>\n",
       "      <th>Age</th>\n",
       "      <td>121.0</td>\n",
       "      <td>5.500000e+05</td>\n",
       "    </tr>\n",
       "    <tr>\n",
       "      <th>Income</th>\n",
       "      <td>550000.0</td>\n",
       "      <td>2.500000e+09</td>\n",
       "    </tr>\n",
       "  </tbody>\n",
       "</table>\n",
       "</div>"
      ],
      "text/plain": [
       "             Age        Income\n",
       "Age        121.0  5.500000e+05\n",
       "Income  550000.0  2.500000e+09"
      ]
     },
     "execution_count": 31,
     "metadata": {},
     "output_type": "execute_result"
    }
   ],
   "source": [
    "df.cov()"
   ]
  },
  {
   "cell_type": "code",
   "execution_count": 38,
   "id": "68dba235-bb42-47a4-9630-c4e6a1018afb",
   "metadata": {},
   "outputs": [],
   "source": [
    "df1 = pd.DataFrame({'gender':['male','female']})"
   ]
  },
  {
   "cell_type": "code",
   "execution_count": 39,
   "id": "c722009d-1d5c-4e0f-a6ee-0ecdef375923",
   "metadata": {},
   "outputs": [],
   "source": [
    "from sklearn.preprocessing import LabelEncoder"
   ]
  },
  {
   "cell_type": "code",
   "execution_count": 40,
   "id": "67469696-b400-4af5-8778-0b27893c0659",
   "metadata": {},
   "outputs": [],
   "source": [
    "endcoded = LabelEncoder()"
   ]
  },
  {
   "cell_type": "code",
   "execution_count": 42,
   "id": "2dbbff20-1c34-4938-888b-5a01a69b4c82",
   "metadata": {},
   "outputs": [],
   "source": [
    "encoder1 = endcoded.fit_transform(df1)"
   ]
  },
  {
   "cell_type": "code",
   "execution_count": 36,
   "id": "f3d1cad9-0d41-41b3-b2a8-a142812ac1e3",
   "metadata": {},
   "outputs": [],
   "source": [
    "df2 = pd.DataFrame({'education level':['High school','Bachelor','master']})"
   ]
  },
  {
   "cell_type": "code",
   "execution_count": 44,
   "id": "86e64ebd-3082-4120-a0ac-580d5f88c875",
   "metadata": {},
   "outputs": [],
   "source": [
    "encoder2 = endcoded.fit_transform(df2)"
   ]
  },
  {
   "cell_type": "code",
   "execution_count": 37,
   "id": "d92b3aa0-d438-4d8e-b85e-e24fba8a302f",
   "metadata": {},
   "outputs": [],
   "source": [
    "df3 = pd.DataFrame({ 'employment status':['umemployment','part time','full time']})"
   ]
  },
  {
   "cell_type": "code",
   "execution_count": 53,
   "id": "4f9e8a35-6752-4f2d-8f1a-3a050bc887d1",
   "metadata": {},
   "outputs": [
    {
     "name": "stderr",
     "output_type": "stream",
     "text": [
      "/opt/conda/lib/python3.10/site-packages/sklearn/preprocessing/_label.py:116: DataConversionWarning: A column-vector y was passed when a 1d array was expected. Please change the shape of y to (n_samples, ), for example using ravel().\n",
      "  y = column_or_1d(y, warn=True)\n"
     ]
    }
   ],
   "source": [
    "encoder3=endcoded.fit_transform(df3)"
   ]
  },
  {
   "cell_type": "code",
   "execution_count": 54,
   "id": "5abf562b-4d75-4526-b24c-f9f363d3dda8",
   "metadata": {},
   "outputs": [],
   "source": [
    "# 7 "
   ]
  },
  {
   "cell_type": "code",
   "execution_count": 63,
   "id": "59c75b4d-51d0-4bb4-9876-5f51b6afacc4",
   "metadata": {},
   "outputs": [],
   "source": [
    "df1 =pd.DataFrame({'continous_var':['Temperature','Humidity']\n",
    "    })"
   ]
  },
  {
   "cell_type": "code",
   "execution_count": 64,
   "id": "3ab0da7e-41f6-46e8-a42e-9319504902c0",
   "metadata": {},
   "outputs": [],
   "source": [
    "df2 = pd.DataFrame({ 'weather_condition':['sunny','cloudy','rainy']})"
   ]
  },
  {
   "cell_type": "code",
   "execution_count": 65,
   "id": "b8e3b9ef-a806-4eba-bdbd-ee274fe30c18",
   "metadata": {},
   "outputs": [],
   "source": [
    "df3 = pd.DataFrame({'wind_direction':['north','south','east','west']})"
   ]
  },
  {
   "cell_type": "code",
   "execution_count": 69,
   "id": "ba661464-8e7f-440a-a78f-b174a61048d2",
   "metadata": {},
   "outputs": [],
   "source": [
    "import numpy as np"
   ]
  },
  {
   "cell_type": "code",
   "execution_count": 73,
   "id": "659eab22-9580-460c-a8a6-52ac017e0b87",
   "metadata": {},
   "outputs": [
    {
     "ename": "TypeError",
     "evalue": "_cov_dispatcher() missing 1 required positional argument: 'm'",
     "output_type": "error",
     "traceback": [
      "\u001b[0;31m---------------------------------------------------------------------------\u001b[0m",
      "\u001b[0;31mTypeError\u001b[0m                                 Traceback (most recent call last)",
      "Cell \u001b[0;32mIn[73], line 1\u001b[0m\n\u001b[0;32m----> 1\u001b[0m \u001b[43mnp\u001b[49m\u001b[38;5;241;43m.\u001b[39;49m\u001b[43mcov\u001b[49m\u001b[43m(\u001b[49m\n\u001b[1;32m      2\u001b[0m \u001b[43m      \u001b[49m\u001b[43m)\u001b[49m\n",
      "File \u001b[0;32m<__array_function__ internals>:179\u001b[0m, in \u001b[0;36mcov\u001b[0;34m(*args, **kwargs)\u001b[0m\n",
      "\u001b[0;31mTypeError\u001b[0m: _cov_dispatcher() missing 1 required positional argument: 'm'"
     ]
    }
   ],
   "source": [
    "np.cov(\n",
    "      )"
   ]
  },
  {
   "cell_type": "code",
   "execution_count": 75,
   "id": "8352d572-8e57-4f0e-a4dc-bcf8c0c78101",
   "metadata": {},
   "outputs": [
    {
     "data": {
      "text/plain": [
       "<bound method DataFrame.cov of   continous_var\n",
       "0   Temperature\n",
       "1      Humidity>"
      ]
     },
     "execution_count": 75,
     "metadata": {},
     "output_type": "execute_result"
    }
   ],
   "source": [
    "df1.cov"
   ]
  },
  {
   "cell_type": "code",
   "execution_count": 76,
   "id": "62a3a015-810d-4fa8-8ff2-97319fa284bd",
   "metadata": {},
   "outputs": [
    {
     "name": "stderr",
     "output_type": "stream",
     "text": [
      "/tmp/ipykernel_1206/3825087732.py:1: FutureWarning: The default value of numeric_only in DataFrame.cov is deprecated. In a future version, it will default to False. Select only valid columns or specify the value of numeric_only to silence this warning.\n",
      "  df2.cov()\n"
     ]
    },
    {
     "data": {
      "text/html": [
       "<div>\n",
       "<style scoped>\n",
       "    .dataframe tbody tr th:only-of-type {\n",
       "        vertical-align: middle;\n",
       "    }\n",
       "\n",
       "    .dataframe tbody tr th {\n",
       "        vertical-align: top;\n",
       "    }\n",
       "\n",
       "    .dataframe thead th {\n",
       "        text-align: right;\n",
       "    }\n",
       "</style>\n",
       "<table border=\"1\" class=\"dataframe\">\n",
       "  <thead>\n",
       "    <tr style=\"text-align: right;\">\n",
       "      <th></th>\n",
       "    </tr>\n",
       "  </thead>\n",
       "  <tbody>\n",
       "  </tbody>\n",
       "</table>\n",
       "</div>"
      ],
      "text/plain": [
       "Empty DataFrame\n",
       "Columns: []\n",
       "Index: []"
      ]
     },
     "execution_count": 76,
     "metadata": {},
     "output_type": "execute_result"
    }
   ],
   "source": [
    "df2.cov()"
   ]
  },
  {
   "cell_type": "code",
   "execution_count": null,
   "id": "cf347295-646c-4ece-99a1-ec70071902d4",
   "metadata": {},
   "outputs": [],
   "source": []
  }
 ],
 "metadata": {
  "kernelspec": {
   "display_name": "Python 3 (ipykernel)",
   "language": "python",
   "name": "python3"
  },
  "language_info": {
   "codemirror_mode": {
    "name": "ipython",
    "version": 3
   },
   "file_extension": ".py",
   "mimetype": "text/x-python",
   "name": "python",
   "nbconvert_exporter": "python",
   "pygments_lexer": "ipython3",
   "version": "3.10.8"
  }
 },
 "nbformat": 4,
 "nbformat_minor": 5
}
